{
 "cells": [
  {
   "cell_type": "markdown",
   "metadata": {},
   "source": [
    "# Access Estimate"
   ]
  },
  {
   "cell_type": "markdown",
   "metadata": {},
   "source": [
    "TODO:\n",
    "- Get proper NTL from website (and mosaic)\n",
    "- Mosaic all targets\n",
    "- Loop through countries.gpkg"
   ]
  },
  {
   "cell_type": "code",
   "execution_count": null,
   "metadata": {},
   "outputs": [],
   "source": [
    "from pathlib import Path\n",
    "\n",
    "from scipy import stats\n",
    "import matplotlib.pyplot as plt\n",
    "import numpy as np\n",
    "import geopandas as gpd\n",
    "import rasterio\n",
    "from rasterio.warp import reproject, Resampling\n",
    "\n",
    "from gridfinder._util import save_raster, clip_raster"
   ]
  },
  {
   "cell_type": "markdown",
   "metadata": {},
   "source": [
    "## Setup"
   ]
  },
  {
   "cell_type": "code",
   "execution_count": null,
   "metadata": {},
   "outputs": [],
   "source": [
    "country = 'Burundi'\n",
    "access_total = 0.08\n",
    "access_urban = 0.50\n",
    "access_rural = 0.02"
   ]
  },
  {
   "cell_type": "code",
   "execution_count": null,
   "metadata": {},
   "outputs": [],
   "source": [
    "# country = 'Uganda'\n",
    "# access_total = 0.27\n",
    "# access_urban = 0.58\n",
    "# access_rural = 0.18"
   ]
  },
  {
   "cell_type": "code",
   "execution_count": null,
   "metadata": {},
   "outputs": [],
   "source": [
    "# country = 'United_Republic_of_Tanzania'\n",
    "# access_total = 0.33\n",
    "# access_urban = 0.65\n",
    "# access_rural = 0.17"
   ]
  },
  {
   "cell_type": "code",
   "execution_count": null,
   "metadata": {},
   "outputs": [],
   "source": [
    "targets_in = f'targets_{country}.tif'\n",
    "folder = Path.home() / 'Documents/GIS'\n",
    "aoi_in = folder / 'countries_rough.gpkg'\n",
    "pop_in = folder / 'GHS_POP_250.tif'\n",
    "urban_in = folder / 'GHS_URB_RUR.tif'\n",
    "ntl_in = folder / 'VIIRS_Africa_2016.tif'"
   ]
  },
  {
   "cell_type": "markdown",
   "metadata": {},
   "source": [
    "## Need to clip all to same AOI"
   ]
  },
  {
   "cell_type": "code",
   "execution_count": null,
   "metadata": {},
   "outputs": [],
   "source": [
    "aoi_big = gpd.read_file(aoi_in)\n",
    "aoi = aoi_big.loc[aoi_big['ADMIN'] == country.replace('_', ' ')]"
   ]
  },
  {
   "cell_type": "code",
   "execution_count": null,
   "metadata": {},
   "outputs": [],
   "source": [
    "# Clip all to same AOI\n",
    "pop, affine, crs = clip_raster(pop_in, aoi)\n",
    "urban, urban_aff, urban_crs = clip_raster(urban_in, aoi)\n",
    "ntl, ntl_aff, ntl_crs = clip_raster(ntl_in, aoi)\n",
    "targets, targets_aff, targets_crs = clip_raster(targets_in, aoi)"
   ]
  },
  {
   "cell_type": "code",
   "execution_count": null,
   "metadata": {},
   "outputs": [],
   "source": [
    "pop[pop < 0] = 0\n",
    "urban[urban < 0] = 0\n",
    "ntl[ntl < 0] = 0\n",
    "targets[targets < 0] = 0"
   ]
  },
  {
   "cell_type": "markdown",
   "metadata": {},
   "source": [
    "## Make all the rasters the same!"
   ]
  },
  {
   "cell_type": "code",
   "execution_count": null,
   "metadata": {},
   "outputs": [],
   "source": [
    "def make_same_as(curr_arr, curr_aff, curr_crs, dest_arr_like, dest_affine, dest_crs):\n",
    "    dest_arr = np.empty_like(dest_arr_like)\n",
    "\n",
    "    with rasterio.Env():\n",
    "        reproject(\n",
    "            source=curr_arr,\n",
    "            destination=dest_arr,\n",
    "            src_transform=curr_aff,\n",
    "            dst_transform=dest_affine,\n",
    "            src_crs=curr_crs,\n",
    "            dst_crs=dest_crs,\n",
    "            resampling=Resampling.nearest,\n",
    "        )\n",
    "\n",
    "    return dest_arr"
   ]
  },
  {
   "cell_type": "code",
   "execution_count": null,
   "metadata": {},
   "outputs": [],
   "source": [
    "urban = make_same_as(urban, urban_aff, urban_crs, pop, affine, crs)\n",
    "ntl = make_same_as(ntl, ntl_aff, ntl_crs, pop, affine, crs)\n",
    "targets = make_same_as(targets, targets_aff, targets_crs, pop, affine, crs)\n",
    "assert pop.shape == urban.shape == ntl.shape == targets.shape"
   ]
  },
  {
   "cell_type": "code",
   "execution_count": null,
   "metadata": {},
   "outputs": [],
   "source": [
    "# Drop 0 pop makes visual inspection easier\n",
    "# And so that quantile values ignore 0\n",
    "pop[pop == 0] = np.nan"
   ]
  },
  {
   "cell_type": "markdown",
   "metadata": {},
   "source": [
    "## Buffer targets"
   ]
  },
  {
   "cell_type": "code",
   "execution_count": null,
   "metadata": {},
   "outputs": [],
   "source": [
    "max_row = targets.shape[0]\n",
    "max_col = targets.shape[1]\n",
    "new_targets = targets.copy()\n",
    "\n",
    "for row in range(0, max_row):\n",
    "    for col in range(0, max_col):\n",
    "        loc = (row, col)\n",
    "        if targets[loc] == 1:\n",
    "            for i in range(-1, 2):\n",
    "                for j in range(-1, 2):\n",
    "                    next_row = row + i\n",
    "                    next_col = col + j\n",
    "                    next_loc = (next_row, next_col)\n",
    "                    \n",
    "                    if not (\n",
    "                        next_row < 0\n",
    "                        or next_col < 0\n",
    "                        or next_row >= max_row\n",
    "                        or next_col >= max_col\n",
    "                        or next_loc == loc\n",
    "                    ):\n",
    "                        new_targets[next_loc] = 1\n",
    "                        \n",
    "targets = new_targets"
   ]
  },
  {
   "cell_type": "markdown",
   "metadata": {},
   "source": [
    "## And have a look"
   ]
  },
  {
   "cell_type": "code",
   "execution_count": null,
   "metadata": {
    "scrolled": false
   },
   "outputs": [],
   "source": [
    "fig, ((ax1, ax2), (ax3, ax4)) = plt.subplots(2, 2, figsize=(12,12))\n",
    "axes =     [ax1,   ax2,     ax3,   ax4]\n",
    "rasters =  [pop,   urban,   ntl,   targets]\n",
    "titles =   ['pop', 'urban', 'ntl', 'targets']\n",
    "maxes =    [1000,  None,    1,     None]\n",
    "\n",
    "for ax, raster, title, vmax in zip(axes, rasters, titles, maxes):\n",
    "    ax.imshow(raster, vmax=vmax)\n",
    "    ax.set_title(title)\n",
    "plt.show()"
   ]
  },
  {
   "cell_type": "markdown",
   "metadata": {},
   "source": [
    "## Run the algorithm"
   ]
  },
  {
   "cell_type": "markdown",
   "metadata": {},
   "source": [
    "### Option 1\n",
    "Iterate, changing `condition_del`, `ntl_cut` and maybe some 'bumping factor' each time?\n",
    "\n",
    "### Option 2\n",
    "Use openelec approach..."
   ]
  },
  {
   "cell_type": "code",
   "execution_count": null,
   "metadata": {},
   "outputs": [],
   "source": [
    "more = {\n",
    "    'urban': {\n",
    "        0.25: 0.015,\n",
    "        0.5:  0.02,\n",
    "        0.75: 0.025,\n",
    "        1:    0.03\n",
    "    },\n",
    "    'rural': {\n",
    "        0.25: 0.005,\n",
    "        0.5:  0.01,\n",
    "        0.75: 0.015,\n",
    "        1:    0.02\n",
    "    }\n",
    "}\n",
    "\n",
    "runs = 0\n",
    "while True:\n",
    "    runs += 1\n",
    "    # The calculated weights for each segment will go here\n",
    "    weights = np.zeros_like(pop)\n",
    "\n",
    "    # Investigate each combination of urban/rural and four quartiles\n",
    "    # of population density\n",
    "    for loc in ['urban', 'rural']:\n",
    "        for q in [0.25, 0.5, 0.75, 1]:\n",
    "\n",
    "            # Values of 2 and 3 are considered urban\n",
    "            if loc == 'urban':\n",
    "                condition_del = urban < 3\n",
    "                access_level = access_urban\n",
    "            else:\n",
    "                condition_del = urban >= 3\n",
    "                access_level = access_rural\n",
    "\n",
    "            # Ignore errors from doing arr[arr < x] with nan values\n",
    "            with np.errstate(invalid='ignore'):\n",
    "                pop_temp = np.copy(pop)  # local copy of pop for this loop\n",
    "                pop_temp[condition_del] = np.nan  # remove urban/rural\n",
    "                pop_temp[targets == 0] = np.nan  # remove not electrified\n",
    "\n",
    "                # Filter to only keep this quartile\n",
    "                quant_below = np.nanquantile(pop_temp, q-0.25)\n",
    "                quant = np.nanquantile(pop_temp, q)\n",
    "                pop_temp[pop_temp <= quant_below] = np.nan\n",
    "                pop_temp[pop_temp > quant] = np.nan\n",
    "\n",
    "                # Get the average brightness per person of the top x% for this quartile\n",
    "                # Where x is the rural/urban access rate\n",
    "                ntl_per_pop = ntl / pop_temp\n",
    "                ntl_cut = np.nanquantile(ntl_per_pop, min(max(1-access_level-more[loc][q], 0), 1))\n",
    "\n",
    "                # Create a weights array and assign values accoring to the formula below\n",
    "                w = np.zeros_like(pop)\n",
    "                w = 1 - (ntl_cut - ntl_per_pop)/ntl_cut\n",
    "                w[w > 0.95] = 0.95  # limit values to max 1\n",
    "                w[np.isnan(w)] = 0\n",
    "\n",
    "                # Add the sucessive weights to the main array\n",
    "                weights += w\n",
    "\n",
    "    # Create electrified array by multiplying\n",
    "    pop_elec = pop * weights\n",
    "    pop_elec[np.isnan(pop_elec)] = 0\n",
    "    \n",
    "    access_model_total = np.nansum(pop_elec) / np.nansum(pop)\n",
    "    print(access_total, access_model_total)\n",
    "    \n",
    "    if abs(access_total - access_model_total) < 0.02:\n",
    "        print('yay')\n",
    "        break\n",
    "    elif runs >= 20:\n",
    "        print('limit')\n",
    "        break\n",
    "    else:\n",
    "        if access_model_total < access_total:\n",
    "            direc = 1\n",
    "        else:\n",
    "            direc = -1\n",
    "        for k, v in more.items():\n",
    "            for l, w in v.items():\n",
    "                more[k][l] += more[k][l] * direc * (20/runs) * abs(access_total - access_model_total)"
   ]
  },
  {
   "cell_type": "markdown",
   "metadata": {},
   "source": [
    "## Check and save results"
   ]
  },
  {
   "cell_type": "code",
   "execution_count": null,
   "metadata": {},
   "outputs": [],
   "source": [
    "access_model_total = np.nansum(pop_elec) / np.nansum(pop)\n",
    "access_model_urban = np.nansum(pop_elec[urban >= 3]) / np.nansum(pop[urban >= 3])\n",
    "access_model_rural = np.nansum(pop_elec[urban < 3]) / np.nansum(pop[urban < 3])\n",
    "\n",
    "print('Access\\tActual\\tModel')\n",
    "print(f'Total:\\t{access_total:.2f}\\t{access_model_total:.2f}')\n",
    "print(f'Urban:\\t{access_urban:.2f}\\t{access_model_urban:.2f}')\n",
    "print(f'Rural:\\t{access_rural:.2f}\\t{access_model_rural:.2f}')"
   ]
  },
  {
   "cell_type": "code",
   "execution_count": null,
   "metadata": {},
   "outputs": [],
   "source": [
    "save_raster(f'pop_elec_{country}.tif', pop_elec, affine, crs)\n",
    "save_raster(f'weights_{country}.tif', weights, affine, crs)"
   ]
  },
  {
   "cell_type": "code",
   "execution_count": null,
   "metadata": {},
   "outputs": [],
   "source": []
  }
 ],
 "metadata": {
  "kernelspec": {
   "display_name": "Python 3 (gridfinder)",
   "language": "python",
   "name": "gridfinder"
  },
  "language_info": {
   "codemirror_mode": {
    "name": "ipython",
    "version": 3
   },
   "file_extension": ".py",
   "mimetype": "text/x-python",
   "name": "python",
   "nbconvert_exporter": "python",
   "pygments_lexer": "ipython3",
   "version": "3.6.7"
  }
 },
 "nbformat": 4,
 "nbformat_minor": 2
}
